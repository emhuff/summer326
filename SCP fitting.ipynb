{
 "cells": [
  {
   "cell_type": "code",
   "execution_count": null,
   "metadata": {},
   "outputs": [],
   "source": [
    "import numpy as np\n",
    "import matplotlib.pyplot as plt\n",
    "%matplotlib inline\n",
    "plt.rcParams['figure.figsize'] = (12,8)\n",
    "\n",
    "data = np.loadtxt('SCPUnion2.1_mu_vs_z.txt',dtype={'names': ('name','redshift','dmod','dmoderr'),'formats': ('S12', 'f4','f4','f4','f4')})\n",
    "data.sort(order='redshift')\n",
    "plt.errorbar(data['redshift'],data['dmod'],yerr=data['dmoderr'],fmt='none')\n",
    "plt.xlabel('redshift')\n",
    "plt.ylabel('supernova distance modulus')\n",
    "plt.show()"
   ]
  },
  {
   "cell_type": "code",
   "execution_count": null,
   "metadata": {},
   "outputs": [],
   "source": [
    "# Next, load the Planck cosmology, and plot it with the supernovae.\n",
    "from astropy.cosmology import Planck15\n",
    "from astropy.cosmology import WMAP5\n",
    "\n",
    "dmod_planck = Planck15.distmod(data['redshift'])\n",
    "dmod_wmap = WMAP5.distmod(data['redshift'])\n",
    "\n",
    "plt.errorbar(data['redshift'],data['dmod'],yerr=data['dmoderr'],fmt=None)\n",
    "plt.xlabel('redshift')\n",
    "plt.ylabel('supernova distance modulus')\n",
    "plt.plot(data['redshift'],dmod_planck,label='Planck15')\n",
    "plt.plot(data['redshift'],dmod_wmap,label='WMAP5')\n",
    "plt.legend(loc='lower right')\n",
    "plt.show()"
   ]
  },
  {
   "cell_type": "code",
   "execution_count": null,
   "metadata": {
    "collapsed": true
   },
   "outputs": [],
   "source": [
    "# Write your likelihood function here.\n",
    "# Call it 'logLike'"
   ]
  },
  {
   "cell_type": "code",
   "execution_count": null,
   "metadata": {},
   "outputs": [],
   "source": [
    "\n",
    "\n",
    "# First up: Try an optimizer; just find the ML values of omega_matter and H0.\n",
    "import scipy.optimize as op\n",
    "nll = lambda *args: -logLike(*args)\n",
    "bounds = [(10.,100.),(0.,1.0)]\n",
    "result = op.minimize(nll, [75.0, 0.25],args=( data['redshift'], data['dmod'], data['dmoderr']),bounds=bounds)\n",
    "print result\n",
    "\n",
    "# Try plotting this result on top of the supernova data.\n"
   ]
  },
  {
   "cell_type": "code",
   "execution_count": null,
   "metadata": {},
   "outputs": [],
   "source": [
    "# Define a sensible prior.\n",
    "\n",
    "def logPrior( parameters, z, dm, err):\n",
    "    # Add a prior here.\n",
    "    return 0.\n",
    "    \n",
    "def logProb( parameters, z, dm, err):\n",
    "    lp = logPrior(parameters, z, dm, err)\n",
    "    if not np.isfinite(lp):\n",
    "        return -np.inf\n",
    "    return lp + logLike(parameters, z, dm, err)\n",
    "\n",
    "# Now try sampling!\n",
    "ndim, nwalkers = 2, 100\n",
    "pos = [result[\"x\"] + 1e-4*np.random.randn(ndim) for i in range(nwalkers)]\n",
    "import emcee\n",
    "sampler = emcee.EnsembleSampler(nwalkers, ndim, logProb, args=(data['redshift'], data['dmod'], data['dmoderr']))\n",
    "sampler.run_mcmc(pos, 500)\n",
    "samples = sampler.chain[:, 50:, :].reshape((-1, ndim))\n",
    "\n",
    "\n"
   ]
  },
  {
   "cell_type": "code",
   "execution_count": null,
   "metadata": {},
   "outputs": [],
   "source": [
    "# Plot the results:\n",
    "import corner\n",
    "H0_true, Om_true = (67.74 , 0.2589)\n",
    "f_true = logProb( (H0_true, Om_true), data['redshift'], data['dmod'], data['dmoderr'])\n",
    "fig = corner.corner(samples, labels=[\"$H_0$\", \"$\\Omega_m$\"],\n",
    "                      truths=[H0_true, Om_true])\n",
    "fig.savefig(\"triangle.png\")\n"
   ]
  },
  {
   "cell_type": "code",
   "execution_count": null,
   "metadata": {},
   "outputs": [],
   "source": [
    "# Now, re-make the first plot, but with the new parameter values:\n",
    "# Next, load the Planck cosmology.\n",
    "from astropy.cosmology import Planck15\n",
    "from astropy.cosmology import WMAP5\n",
    "\n",
    "fit_cosmo = cosm.FlatwCDM(H0=np.mean(samples[:,0]), Om0 = np.mean(samples[:,1]))\n",
    "\n",
    "dmod_planck = Planck15.distmod(data['redshift'])\n",
    "dmod_fit = fit_cosmo.distmod(data['redshift'])\n",
    "\n",
    "plt.errorbar(data['redshift'],data['dmod'],yerr=data['dmoderr'],fmt=None)\n",
    "plt.xlabel('redshift')\n",
    "plt.ylabel('supernova distance modulus')\n",
    "plt.plot(data['redshift'],dmod_planck,label='Planck15')\n",
    "plt.plot(data['redshift'],dmod_fit,label='fit')                          \n",
    "plt.legend(loc='lower right')\n",
    "plt.show()"
   ]
  },
  {
   "cell_type": "code",
   "execution_count": null,
   "metadata": {},
   "outputs": [],
   "source": [
    "# That's really hard to see, so let's make the residual plot:\n",
    "plt.errorbar(data['redshift'],data['dmod'] - dmod_planck/u.mag,yerr=data['dmoderr'],fmt='none')\n",
    "plt.xlabel('redshift')\n",
    "plt.ylabel('$\\Delta$ supernova distance modulus')\n",
    "plt.plot(data['redshift'],dmod_fit-dmod_planck,label='fit')                          \n",
    "plt.plot(data['redshift'],np.zeros_like(data['redshift']),label='planck')\n",
    "plt.legend(loc='lower right')\n",
    "plt.ylim(-1.5,1.5)\n",
    "plt.show()"
   ]
  },
  {
   "cell_type": "code",
   "execution_count": null,
   "metadata": {
    "collapsed": true
   },
   "outputs": [],
   "source": []
  }
 ],
 "metadata": {
  "kernelspec": {
   "display_name": "Python 2",
   "language": "python",
   "name": "python2"
  },
  "language_info": {
   "codemirror_mode": {
    "name": "ipython",
    "version": 2
   },
   "file_extension": ".py",
   "mimetype": "text/x-python",
   "name": "python",
   "nbconvert_exporter": "python",
   "pygments_lexer": "ipython2",
   "version": "2.7.13"
  }
 },
 "nbformat": 4,
 "nbformat_minor": 2
}
